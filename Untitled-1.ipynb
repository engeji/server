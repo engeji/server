{
 "cells": [
  {
   "cell_type": "code",
   "execution_count": 31,
   "metadata": {},
   "outputs": [
    {
     "name": "stdout",
     "output_type": "stream",
     "text": [
      "depart of [vasya_ivanov, masha_ivanov]\n",
      "depart of [dima_motorin, dima_mandrigyn]\n",
      "depart of [vasya_ivanov, masha_ivanov, dima_motorin, dima_mandrigyn]\n"
     ]
    }
   ],
   "source": [
    "from unittest import removeResult\n",
    "from unittest.main import MAIN_EXAMPLES\n",
    "\n",
    "\n",
    "class Emplyee:\n",
    "    def __init__(self,name,surname) -> None:\n",
    "        self.name = name\n",
    "        self.surname = surname\n",
    "    def __repr__(self) -> str:\n",
    "        return f'{self.name}_{self.surname}'\n",
    "\n",
    "class Departament:\n",
    "    def __init__(self, list_of_empl) -> None:\n",
    "        self.list_of_empl = list_of_empl\n",
    "    def __repr__(self) -> str:\n",
    "        return f'depart of {self.list_of_empl}'\n",
    "    def __add__(self,  other):\n",
    "        res = self.list_of_empl + other.list_of_empl\n",
    "        return Departament(res)\n",
    "\n",
    "\n",
    "\n",
    "a = Emplyee('vasya','ivanov')\n",
    "b = Emplyee('masha','ivanov')\n",
    "\n",
    "c = Emplyee('dima', 'motorin')\n",
    "d = Emplyee('dima', 'mandrigyn')\n",
    "\n",
    "d1 = Departament([a,b])\n",
    "\n",
    "d2 = Departament([c,d])\n",
    "\n",
    "d3 = d1 + d2\n",
    "print(d1)\n",
    "print(d2)\n",
    "print(d3)\n"
   ]
  },
  {
   "cell_type": "code",
   "execution_count": 34,
   "metadata": {},
   "outputs": [
    {
     "name": "stdout",
     "output_type": "stream",
     "text": [
      "[(1, 2, 3, 'a'), (1, 2, 'a', 3), (1, 3, 2, 'a'), (1, 3, 'a', 2), (1, 'a', 2, 3), (1, 'a', 3, 2), (2, 1, 3, 'a'), (2, 1, 'a', 3), (2, 3, 1, 'a'), (2, 3, 'a', 1), (2, 'a', 1, 3), (2, 'a', 3, 1), (3, 1, 2, 'a'), (3, 1, 'a', 2), (3, 2, 1, 'a'), (3, 2, 'a', 1), (3, 'a', 1, 2), (3, 'a', 2, 1), ('a', 1, 2, 3), ('a', 1, 3, 2), ('a', 2, 1, 3), ('a', 2, 3, 1), ('a', 3, 1, 2), ('a', 3, 2, 1)]\n"
     ]
    }
   ],
   "source": [
    "from itertools import permutations\n",
    "\n",
    "print(list(permutations([1,2,3,'a'])))"
   ]
  }
 ],
 "metadata": {
  "interpreter": {
   "hash": "d03e9d8f8931db29ed6e0c850af54296b44346bb72981148ddfbdbdd6c91c0c1"
  },
  "kernelspec": {
   "display_name": "Python 3 (ipykernel)",
   "language": "python",
   "name": "python3"
  },
  "language_info": {
   "codemirror_mode": {
    "name": "ipython",
    "version": 3
   },
   "file_extension": ".py",
   "mimetype": "text/x-python",
   "name": "python",
   "nbconvert_exporter": "python",
   "pygments_lexer": "ipython3",
   "version": "3.8.1"
  }
 },
 "nbformat": 4,
 "nbformat_minor": 2
}
