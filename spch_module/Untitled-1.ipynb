{
 "cells": [
  {
   "cell_type": "code",
   "execution_count": 177,
   "metadata": {},
   "outputs": [
    {
     "name": "stdout",
     "output_type": "stream",
     "text": [
      "Mike Green, age 27, GROUP 19-1\n",
      "Dave Green, age 27, GROUP 19-1\n"
     ]
    }
   ],
   "source": [
    "class Student:\n",
    "    def __init__(self, age, name, surname,group):\n",
    "        self.age = age\n",
    "        self.name = name\n",
    "        self.surname = surname\n",
    "        self.group = group\n",
    "        self.group_students = [1,1,1,1]\n",
    "    def get_stipendya(self):\n",
    "        print('stipendya active')\n",
    "    def get_card(self):\n",
    "        print(f\"{self.name} {self.surname}, age {self.age}, GROUP {self.group}\")\n",
    "\n",
    "dave = Student (27, 'Dave', 'Green', '19-1')\n",
    "Mike = Student (27, 'Mike', 'Green', '19-1')\n",
    "\n",
    "Mike.get_card()\n",
    "dave.get_card()\n",
    "\n",
    "#def get_card(stud):\n",
    "    #print(f\"{stud.name} {stud.surname}, age {stud.age}, GROUP {stud.group}\")\n",
    "\n",
    "#get_card(dave)\n",
    "#get_card(Mike)\n"
   ]
  },
  {
   "cell_type": "code",
   "execution_count": 376,
   "metadata": {},
   "outputs": [
    {
     "name": "stdout",
     "output_type": "stream",
     "text": [
      "6, -8, 70 \n",
      "id =  0\n",
      "-2\n",
      "id =  1\n",
      "-2\n",
      "  Cross pdoruction = -48, -1, 14 \n",
      "     normalization = 0.26490647141300877, -0.26490647141300877, 0.9271726499455307 \n",
      "normalization v2.0 = 0.2683281572999748, 0.35777087639996635, 0.8944271909999159 \n",
      "     Guiding cosine = 0.26490647141300877, -0.26490647141300877, 0.9271726499455306 \n",
      "Guiding cosine v2.0 = 0.2683281572999747, 0.35777087639996635, 0.8944271909999159 \n",
      "       Guiding sine = 0.964274111134126, 0.964274111134126, 0.3746343246326777 \n",
      "  Guiding sine v2.0 = 0.9633275663033837, 0.9338094023943002, 0.44721359549995804 \n"
     ]
    }
   ],
   "source": [
    "point0 = 5.0\n",
    "\n",
    "import numpy as np\n",
    "\n",
    "class Vector:\n",
    "    who_are_u = 'Vector'\n",
    "\n",
    "    def __init__(self,a, b, c, id = None):\n",
    "        self.a = a\n",
    "        self.b = b\n",
    "        self.c = c\n",
    "        self.id = id\n",
    "    def __str__ (self):\n",
    "        return \"{a}, {b}, {c} \".format(a=self.a,b=self.b, c=self.c)\n",
    "    def __add__(self, other):\n",
    "        \n",
    "        if isinstance (other, Vector):\n",
    "        #if other == Vector:\n",
    "            a = self.a + other.a\n",
    "            b = self.b + other.b\n",
    "            c = self.c + other.c\n",
    "        elif isinstance(other,int) or isinstance(other, float):\n",
    "            a = self.a + other\n",
    "            b = self.b + other \n",
    "            c = self.c + other\n",
    "\n",
    "        return Vector(a,b,c)\n",
    "    def __mul__ (self, other):\n",
    "        a = self.a * other.a\n",
    "        b = self.b * other.b\n",
    "        c = self.c * other.c\n",
    "        return Vector(a,b,c)\n",
    "    \n",
    "    def __truediv__ (self,other):\n",
    "        a = self.a / other.a\n",
    "        b = self.b / other.b\n",
    "        c = self.c / other.c\n",
    "        #return Vector(a,b)\n",
    "        return Vector(a,b,c)\n",
    "\n",
    "    def scalar_pro(self, other):\n",
    "        print('id = ', self.id)\n",
    "        sum = (self.a * other.a) + (self.b * other.b)\n",
    "        return sum\n",
    "    def cross_product (self, other):\n",
    "        a = self.b * other.c - self.c * other.b\n",
    "        b = self.a * other.c - self.c * other.a\n",
    "        c = self.a * other.b - self.b * other.a\n",
    "        \n",
    "        return Vector(a,b,c)\n",
    "    def normalized (self):\n",
    "        length = (self.a**2 + self.b**2 + self.c**2)**(1/2)\n",
    "        a = self.a * (1/length)\n",
    "        b = self.b * (1/length)\n",
    "        c = self.c * (1/length) \n",
    "        return Vector(a,b,c)\n",
    "    def guiding_cos (self):\n",
    "        Module = ((self.a)**2+(self.b)**2+(self.c)**2)**(1/2)\n",
    "        a = self.a / Module\n",
    "        b = self.b / Module\n",
    "        c = self.c / Module\n",
    "        return Vector(a,b,c) \n",
    "    def guiding_sine (self):\n",
    "        Module = ((self.a)**2+(self.b)**2+(self.c)**2)**(1/2)\n",
    "        a = (1 - (self.a / Module)**2)**(1/2)\n",
    "        b = (1 - (self.b / Module)**2)**(1/2)\n",
    "        c = (1 - (self.c / Module)**2)**(1/2)\n",
    "        return Vector(a,b,c) \n",
    "\n",
    "point1 = Vector(2,-2, 7 , id = 0)\n",
    "point2 = Vector(3,4, 10, id = 1) \n",
    "\n",
    "point3 = point1 * point2\n",
    "print(point3)\n",
    "\n",
    "dot_inst = point1.scalar_pro(point2)\n",
    "print(dot_inst)\n",
    "\n",
    "dot_inst = point2.scalar_pro(point1)\n",
    "print(dot_inst)\n",
    "\n",
    "dot_inst  = point1.cross_product(point2)\n",
    "cross = Vector.cross_product(point1,point2)\n",
    "print(f'  Cross pdoruction =',cross)\n",
    "\n",
    "norm = Vector.normalized(point1)\n",
    "print(f'     normalization =',norm)\n",
    "\n",
    "norm = point2.normalized()\n",
    "print(f'normalization v2.0 =',norm)\n",
    "\n",
    "guide_cos = Vector.guiding_cos(point1)\n",
    "print('     Guiding cosine =',guide_cos)\n",
    "\n",
    "guide_cos = Vector.guiding_cos(point2)\n",
    "print('Guiding cosine v2.0 =',guide_cos)\n",
    "\n",
    "guide_sine = Vector.guiding_sine(point1)\n",
    "print('       Guiding sine =',guide_sine)\n",
    "\n",
    "guide_sine = Vector.guiding_sine(point2)\n",
    "print('  Guiding sine v2.0 =',guide_sine)"
   ]
  },
  {
   "cell_type": "code",
   "execution_count": 378,
   "metadata": {},
   "outputs": [
    {
     "data": {
      "text/plain": [
       "1.0000000000000002"
      ]
     },
     "execution_count": 378,
     "metadata": {},
     "output_type": "execute_result"
    }
   ],
   "source": [
    "0.26490647141300877**2 + 0.26490647141300877**2 +  0.9271726499455307**2"
   ]
  },
  {
   "cell_type": "code",
   "execution_count": 392,
   "metadata": {},
   "outputs": [
    {
     "data": {
      "text/plain": [
       "([0, 1, 2, 3, 4, 5, 6, 7, 8, 9], [0, 1, 4, 9, 16, 25, 36, 49, 64, 81])"
      ]
     },
     "execution_count": 392,
     "metadata": {},
     "output_type": "execute_result"
    }
   ],
   "source": [
    "def func(param):\n",
    "    return param **2\n",
    "a = range(10)\n",
    "m = map(lambda x : x**2,a)\n",
    "list(a), list(m)"
   ]
  }
 ],
 "metadata": {
  "interpreter": {
   "hash": "d03e9d8f8931db29ed6e0c850af54296b44346bb72981148ddfbdbdd6c91c0c1"
  },
  "kernelspec": {
   "display_name": "Python 3.8.1 ('venv': venv)",
   "language": "python",
   "name": "python3"
  },
  "language_info": {
   "codemirror_mode": {
    "name": "ipython",
    "version": 3
   },
   "file_extension": ".py",
   "mimetype": "text/x-python",
   "name": "python",
   "nbconvert_exporter": "python",
   "pygments_lexer": "ipython3",
   "version": "3.8.1"
  },
  "orig_nbformat": 4
 },
 "nbformat": 4,
 "nbformat_minor": 2
}
